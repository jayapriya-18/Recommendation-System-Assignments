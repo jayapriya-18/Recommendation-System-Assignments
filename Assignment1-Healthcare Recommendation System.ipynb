{
 "cells": [
  {
   "cell_type": "markdown",
   "id": "3782bfb0-f654-4814-8771-b0d9b0e7dde8",
   "metadata": {},
   "source": [
    "<h1>Assignment 1 - Healthcare Recommendation System</h1>"
   ]
  },
  {
   "cell_type": "markdown",
   "id": "75102e01-22d9-4b4e-9cdd-d3ffaa09d51d",
   "metadata": {},
   "source": [
    "<h3>Step1: Importing Modules</h3>"
   ]
  },
  {
   "cell_type": "code",
   "execution_count": 31,
   "id": "de8bfffb-7bfa-44df-b9e4-c35b4c8a10a0",
   "metadata": {},
   "outputs": [],
   "source": [
    "import pandas as pd\n",
    "import numpy as np\n",
    "from sklearn.model_selection import train_test_split\n",
    "from sklearn.preprocessing import LabelEncoder\n",
    "from sklearn.preprocessing import StandardScaler\n",
    "from tensorflow.keras.models import Sequential\n",
    "from tensorflow.keras.layers import Dense, Input\n",
    "from sklearn.metrics import accuracy_score, classification_report"
   ]
  },
  {
   "cell_type": "markdown",
   "id": "d0e2c0b7-11b7-4a4a-9cc4-bbd82079467d",
   "metadata": {},
   "source": [
    "<h3>Step2: Load the Dataset</h3>"
   ]
  },
  {
   "cell_type": "code",
   "execution_count": 32,
   "id": "edab462b-5262-4acc-9bcc-9a20456f75b4",
   "metadata": {},
   "outputs": [
    {
     "data": {
      "text/html": [
       "<div>\n",
       "<style scoped>\n",
       "    .dataframe tbody tr th:only-of-type {\n",
       "        vertical-align: middle;\n",
       "    }\n",
       "\n",
       "    .dataframe tbody tr th {\n",
       "        vertical-align: top;\n",
       "    }\n",
       "\n",
       "    .dataframe thead th {\n",
       "        text-align: right;\n",
       "    }\n",
       "</style>\n",
       "<table border=\"1\" class=\"dataframe\">\n",
       "  <thead>\n",
       "    <tr style=\"text-align: right;\">\n",
       "      <th></th>\n",
       "      <th>symptom1</th>\n",
       "      <th>symptom2</th>\n",
       "      <th>symptom3</th>\n",
       "      <th>diagnosis</th>\n",
       "      <th>treatment</th>\n",
       "    </tr>\n",
       "  </thead>\n",
       "  <tbody>\n",
       "    <tr>\n",
       "      <th>0</th>\n",
       "      <td>nausea</td>\n",
       "      <td>fever</td>\n",
       "      <td>headache</td>\n",
       "      <td>stomach flu</td>\n",
       "      <td>anti-nausea medication</td>\n",
       "    </tr>\n",
       "    <tr>\n",
       "      <th>1</th>\n",
       "      <td>shortness of breath</td>\n",
       "      <td>fever</td>\n",
       "      <td>fatigue</td>\n",
       "      <td>COVID-19</td>\n",
       "      <td>anti-nausea medication</td>\n",
       "    </tr>\n",
       "    <tr>\n",
       "      <th>2</th>\n",
       "      <td>fever</td>\n",
       "      <td>sore throat</td>\n",
       "      <td>shortness of breath</td>\n",
       "      <td>food poisoning</td>\n",
       "      <td>antibiotics</td>\n",
       "    </tr>\n",
       "    <tr>\n",
       "      <th>3</th>\n",
       "      <td>diarrhea</td>\n",
       "      <td>diarrhea</td>\n",
       "      <td>sore throat</td>\n",
       "      <td>common cold</td>\n",
       "      <td>antiviral medication</td>\n",
       "    </tr>\n",
       "    <tr>\n",
       "      <th>4</th>\n",
       "      <td>fatigue</td>\n",
       "      <td>headache</td>\n",
       "      <td>runny nose</td>\n",
       "      <td>stomach flu</td>\n",
       "      <td>antibiotics</td>\n",
       "    </tr>\n",
       "  </tbody>\n",
       "</table>\n",
       "</div>"
      ],
      "text/plain": [
       "              symptom1     symptom2             symptom3       diagnosis  \\\n",
       "0               nausea        fever             headache     stomach flu   \n",
       "1  shortness of breath        fever              fatigue        COVID-19   \n",
       "2                fever  sore throat  shortness of breath  food poisoning   \n",
       "3             diarrhea     diarrhea          sore throat     common cold   \n",
       "4              fatigue     headache           runny nose     stomach flu   \n",
       "\n",
       "                treatment  \n",
       "0  anti-nausea medication  \n",
       "1  anti-nausea medication  \n",
       "2             antibiotics  \n",
       "3    antiviral medication  \n",
       "4             antibiotics  "
      ]
     },
     "execution_count": 32,
     "metadata": {},
     "output_type": "execute_result"
    }
   ],
   "source": [
    "df = pd.read_csv('Downloads/health_symptoms_diagnosis_treatment.csv')\n",
    "df.head()"
   ]
  },
  {
   "cell_type": "markdown",
   "id": "0d6806cf-f18d-497b-bd4d-6c08c0fba2b7",
   "metadata": {},
   "source": [
    "<h3>Step3: Data Preprocessing</h3>"
   ]
  },
  {
   "cell_type": "code",
   "execution_count": 33,
   "id": "1205a75c-ebcd-42ce-9e8c-484755ea6d75",
   "metadata": {},
   "outputs": [],
   "source": [
    "# Filling missing values\n",
    "df.fillna('', inplace=True)\n",
    "\n",
    "# Combine symptoms into a single column (if not combined)\n",
    "df['combined_symptoms'] = df[['symptom1', 'symptom2', 'symptom3']].apply(lambda x: ', '.join(x), axis=1)\n",
    "\n",
    "# Encoding symptoms using LabelEncoder\n",
    "symptom_encoder = LabelEncoder()\n",
    "df['encoded_symptoms'] = symptom_encoder.fit_transform(df['combined_symptoms'])\n",
    "\n",
    "# Encoding diagnosis using LabelEncoder\n",
    "diagnosis_encoder = LabelEncoder()\n",
    "df['encoded_diagnosis'] = diagnosis_encoder.fit_transform(df['diagnosis'])\n",
    "\n",
    "# Defining input (X) and output (y)\n",
    "X = df['encoded_symptoms'].values.reshape(-1, 1)  # Input: encoded symptoms\n",
    "y = df['encoded_diagnosis'].values  # Output: encoded diagnosis (target)"
   ]
  },
  {
   "cell_type": "markdown",
   "id": "f0d09e95-8492-45e4-a4a2-c9619f14e453",
   "metadata": {},
   "source": [
    "<h3>Step4: Splitting the dataset into training and testing</h3>"
   ]
  },
  {
   "cell_type": "code",
   "execution_count": 23,
   "id": "e3a3fdea-63dd-48aa-883c-544ef1820032",
   "metadata": {},
   "outputs": [],
   "source": [
    "X_train, X_test, y_train, y_test = train_test_split(X, y, test_size=0.2, random_state=42)\n",
    "\n",
    "# Standardizing the data (scaling)\n",
    "scaler = StandardScaler()\n",
    "X_train_scaled = scaler.fit_transform(X_train)\n",
    "X_test_scaled = scaler.transform(X_test)"
   ]
  },
  {
   "cell_type": "markdown",
   "id": "67171e73-e164-4164-935a-f4569e11d290",
   "metadata": {},
   "source": [
    "<h3>Step5: Building the ANN Model</h3>"
   ]
  },
  {
   "cell_type": "code",
   "execution_count": 24,
   "id": "ce9ea7a5-bcd6-459d-927d-c17eb5eea392",
   "metadata": {},
   "outputs": [],
   "source": [
    "model = Sequential()\n",
    "model.add(Input(shape=(1,)))  # Correcting the input shape\n",
    "model.add(Dense(64, activation='relu'))  # Input layer\n",
    "model.add(Dense(32, activation='relu'))  # Hidden layer 1\n",
    "model.add(Dense(16, activation='relu'))  # Hidden layer 2\n",
    "model.add(Dense(len(np.unique(y_train)), activation='softmax'))  # Output layer (number of diagnosis classes)\n",
    "\n",
    "# Compiling the model\n",
    "model.compile(loss='sparse_categorical_crossentropy', optimizer='adam', metrics=['accuracy'])"
   ]
  },
  {
   "cell_type": "markdown",
   "id": "e3aa660a-0297-445c-8629-fc399c4c967a",
   "metadata": {},
   "source": [
    "<h3>Step6: Training the model</h3>"
   ]
  },
  {
   "cell_type": "code",
   "execution_count": 25,
   "id": "013b488e-f8fd-4577-ae1a-50faf1e667ba",
   "metadata": {},
   "outputs": [
    {
     "name": "stdout",
     "output_type": "stream",
     "text": [
      "Epoch 1/50\n",
      "\u001b[1m5/5\u001b[0m \u001b[32m━━━━━━━━━━━━━━━━━━━━\u001b[0m\u001b[37m\u001b[0m \u001b[1m3s\u001b[0m 132ms/step - accuracy: 0.0941 - loss: 2.2013 - val_accuracy: 0.1000 - val_loss: 2.1997\n",
      "Epoch 2/50\n",
      "\u001b[1m5/5\u001b[0m \u001b[32m━━━━━━━━━━━━━━━━━━━━\u001b[0m\u001b[37m\u001b[0m \u001b[1m0s\u001b[0m 24ms/step - accuracy: 0.1326 - loss: 2.1894 - val_accuracy: 0.1000 - val_loss: 2.1951\n",
      "Epoch 3/50\n",
      "\u001b[1m5/5\u001b[0m \u001b[32m━━━━━━━━━━━━━━━━━━━━\u001b[0m\u001b[37m\u001b[0m \u001b[1m0s\u001b[0m 26ms/step - accuracy: 0.1868 - loss: 2.1807 - val_accuracy: 0.1000 - val_loss: 2.1901\n",
      "Epoch 4/50\n",
      "\u001b[1m5/5\u001b[0m \u001b[32m━━━━━━━━━━━━━━━━━━━━\u001b[0m\u001b[37m\u001b[0m \u001b[1m0s\u001b[0m 27ms/step - accuracy: 0.1703 - loss: 2.1716 - val_accuracy: 0.1000 - val_loss: 2.1869\n",
      "Epoch 5/50\n",
      "\u001b[1m5/5\u001b[0m \u001b[32m━━━━━━━━━━━━━━━━━━━━\u001b[0m\u001b[37m\u001b[0m \u001b[1m0s\u001b[0m 26ms/step - accuracy: 0.1653 - loss: 2.1618 - val_accuracy: 0.1000 - val_loss: 2.1847\n",
      "Epoch 6/50\n",
      "\u001b[1m5/5\u001b[0m \u001b[32m━━━━━━━━━━━━━━━━━━━━\u001b[0m\u001b[37m\u001b[0m \u001b[1m0s\u001b[0m 29ms/step - accuracy: 0.1299 - loss: 2.1520 - val_accuracy: 0.1000 - val_loss: 2.1844\n",
      "Epoch 7/50\n",
      "\u001b[1m5/5\u001b[0m \u001b[32m━━━━━━━━━━━━━━━━━━━━\u001b[0m\u001b[37m\u001b[0m \u001b[1m0s\u001b[0m 27ms/step - accuracy: 0.1444 - loss: 2.1554 - val_accuracy: 0.1000 - val_loss: 2.1852\n",
      "Epoch 8/50\n",
      "\u001b[1m5/5\u001b[0m \u001b[32m━━━━━━━━━━━━━━━━━━━━\u001b[0m\u001b[37m\u001b[0m \u001b[1m0s\u001b[0m 20ms/step - accuracy: 0.1764 - loss: 2.1405 - val_accuracy: 0.1000 - val_loss: 2.1879\n",
      "Epoch 9/50\n",
      "\u001b[1m5/5\u001b[0m \u001b[32m━━━━━━━━━━━━━━━━━━━━\u001b[0m\u001b[37m\u001b[0m \u001b[1m0s\u001b[0m 22ms/step - accuracy: 0.1764 - loss: 2.1428 - val_accuracy: 0.1000 - val_loss: 2.1923\n",
      "Epoch 10/50\n",
      "\u001b[1m5/5\u001b[0m \u001b[32m━━━━━━━━━━━━━━━━━━━━\u001b[0m\u001b[37m\u001b[0m \u001b[1m0s\u001b[0m 27ms/step - accuracy: 0.1842 - loss: 2.1169 - val_accuracy: 0.0500 - val_loss: 2.1973\n",
      "Epoch 11/50\n",
      "\u001b[1m5/5\u001b[0m \u001b[32m━━━━━━━━━━━━━━━━━━━━\u001b[0m\u001b[37m\u001b[0m \u001b[1m0s\u001b[0m 21ms/step - accuracy: 0.2658 - loss: 2.0839 - val_accuracy: 0.0500 - val_loss: 2.2045\n",
      "Epoch 12/50\n",
      "\u001b[1m5/5\u001b[0m \u001b[32m━━━━━━━━━━━━━━━━━━━━\u001b[0m\u001b[37m\u001b[0m \u001b[1m0s\u001b[0m 27ms/step - accuracy: 0.2153 - loss: 2.0972 - val_accuracy: 0.1000 - val_loss: 2.2121\n",
      "Epoch 13/50\n",
      "\u001b[1m5/5\u001b[0m \u001b[32m━━━━━━━━━━━━━━━━━━━━\u001b[0m\u001b[37m\u001b[0m \u001b[1m0s\u001b[0m 27ms/step - accuracy: 0.2161 - loss: 2.0814 - val_accuracy: 0.1000 - val_loss: 2.2217\n",
      "Epoch 14/50\n",
      "\u001b[1m5/5\u001b[0m \u001b[32m━━━━━━━━━━━━━━━━━━━━\u001b[0m\u001b[37m\u001b[0m \u001b[1m0s\u001b[0m 26ms/step - accuracy: 0.1649 - loss: 2.1137 - val_accuracy: 0.1000 - val_loss: 2.2324\n",
      "Epoch 15/50\n",
      "\u001b[1m5/5\u001b[0m \u001b[32m━━━━━━━━━━━━━━━━━━━━\u001b[0m\u001b[37m\u001b[0m \u001b[1m0s\u001b[0m 27ms/step - accuracy: 0.2413 - loss: 2.0717 - val_accuracy: 0.1000 - val_loss: 2.2442\n",
      "Epoch 16/50\n",
      "\u001b[1m5/5\u001b[0m \u001b[32m━━━━━━━━━━━━━━━━━━━━\u001b[0m\u001b[37m\u001b[0m \u001b[1m0s\u001b[0m 26ms/step - accuracy: 0.1597 - loss: 2.0821 - val_accuracy: 0.1000 - val_loss: 2.2557\n",
      "Epoch 17/50\n",
      "\u001b[1m5/5\u001b[0m \u001b[32m━━━━━━━━━━━━━━━━━━━━\u001b[0m\u001b[37m\u001b[0m \u001b[1m0s\u001b[0m 21ms/step - accuracy: 0.1845 - loss: 2.0746 - val_accuracy: 0.1000 - val_loss: 2.2671\n",
      "Epoch 18/50\n",
      "\u001b[1m5/5\u001b[0m \u001b[32m━━━━━━━━━━━━━━━━━━━━\u001b[0m\u001b[37m\u001b[0m \u001b[1m0s\u001b[0m 21ms/step - accuracy: 0.1892 - loss: 2.0788 - val_accuracy: 0.1000 - val_loss: 2.2787\n",
      "Epoch 19/50\n",
      "\u001b[1m5/5\u001b[0m \u001b[32m━━━━━━━━━━━━━━━━━━━━\u001b[0m\u001b[37m\u001b[0m \u001b[1m0s\u001b[0m 18ms/step - accuracy: 0.1519 - loss: 2.1179 - val_accuracy: 0.1000 - val_loss: 2.2863\n",
      "Epoch 20/50\n",
      "\u001b[1m5/5\u001b[0m \u001b[32m━━━━━━━━━━━━━━━━━━━━\u001b[0m\u001b[37m\u001b[0m \u001b[1m0s\u001b[0m 30ms/step - accuracy: 0.2483 - loss: 2.0483 - val_accuracy: 0.1000 - val_loss: 2.2990\n",
      "Epoch 21/50\n",
      "\u001b[1m5/5\u001b[0m \u001b[32m━━━━━━━━━━━━━━━━━━━━\u001b[0m\u001b[37m\u001b[0m \u001b[1m0s\u001b[0m 25ms/step - accuracy: 0.1823 - loss: 2.0671 - val_accuracy: 0.1000 - val_loss: 2.3100\n",
      "Epoch 22/50\n",
      "\u001b[1m5/5\u001b[0m \u001b[32m━━━━━━━━━━━━━━━━━━━━\u001b[0m\u001b[37m\u001b[0m \u001b[1m0s\u001b[0m 30ms/step - accuracy: 0.1806 - loss: 2.0945 - val_accuracy: 0.1000 - val_loss: 2.3180\n",
      "Epoch 23/50\n",
      "\u001b[1m5/5\u001b[0m \u001b[32m━━━━━━━━━━━━━━━━━━━━\u001b[0m\u001b[37m\u001b[0m \u001b[1m0s\u001b[0m 24ms/step - accuracy: 0.1510 - loss: 2.1306 - val_accuracy: 0.1000 - val_loss: 2.3217\n",
      "Epoch 24/50\n",
      "\u001b[1m5/5\u001b[0m \u001b[32m━━━━━━━━━━━━━━━━━━━━\u001b[0m\u001b[37m\u001b[0m \u001b[1m0s\u001b[0m 26ms/step - accuracy: 0.1979 - loss: 2.0414 - val_accuracy: 0.1000 - val_loss: 2.3284\n",
      "Epoch 25/50\n",
      "\u001b[1m5/5\u001b[0m \u001b[32m━━━━━━━━━━━━━━━━━━━━\u001b[0m\u001b[37m\u001b[0m \u001b[1m0s\u001b[0m 28ms/step - accuracy: 0.2378 - loss: 2.0413 - val_accuracy: 0.1000 - val_loss: 2.3364\n",
      "Epoch 26/50\n",
      "\u001b[1m5/5\u001b[0m \u001b[32m━━━━━━━━━━━━━━━━━━━━\u001b[0m\u001b[37m\u001b[0m \u001b[1m0s\u001b[0m 28ms/step - accuracy: 0.1892 - loss: 2.0823 - val_accuracy: 0.1000 - val_loss: 2.3415\n",
      "Epoch 27/50\n",
      "\u001b[1m5/5\u001b[0m \u001b[32m━━━━━━━━━━━━━━━━━━━━\u001b[0m\u001b[37m\u001b[0m \u001b[1m0s\u001b[0m 31ms/step - accuracy: 0.1719 - loss: 2.0713 - val_accuracy: 0.1000 - val_loss: 2.3452\n",
      "Epoch 28/50\n",
      "\u001b[1m5/5\u001b[0m \u001b[32m━━━━━━━━━━━━━━━━━━━━\u001b[0m\u001b[37m\u001b[0m \u001b[1m0s\u001b[0m 28ms/step - accuracy: 0.2075 - loss: 2.0472 - val_accuracy: 0.1000 - val_loss: 2.3490\n",
      "Epoch 29/50\n",
      "\u001b[1m5/5\u001b[0m \u001b[32m━━━━━━━━━━━━━━━━━━━━\u001b[0m\u001b[37m\u001b[0m \u001b[1m0s\u001b[0m 25ms/step - accuracy: 0.1137 - loss: 2.1059 - val_accuracy: 0.1000 - val_loss: 2.3490\n",
      "Epoch 30/50\n",
      "\u001b[1m5/5\u001b[0m \u001b[32m━━━━━━━━━━━━━━━━━━━━\u001b[0m\u001b[37m\u001b[0m \u001b[1m0s\u001b[0m 28ms/step - accuracy: 0.1823 - loss: 2.0521 - val_accuracy: 0.1000 - val_loss: 2.3532\n",
      "Epoch 31/50\n",
      "\u001b[1m5/5\u001b[0m \u001b[32m━━━━━━━━━━━━━━━━━━━━\u001b[0m\u001b[37m\u001b[0m \u001b[1m0s\u001b[0m 32ms/step - accuracy: 0.1693 - loss: 2.0652 - val_accuracy: 0.1000 - val_loss: 2.3579\n",
      "Epoch 32/50\n",
      "\u001b[1m5/5\u001b[0m \u001b[32m━━━━━━━━━━━━━━━━━━━━\u001b[0m\u001b[37m\u001b[0m \u001b[1m0s\u001b[0m 23ms/step - accuracy: 0.2083 - loss: 2.0738 - val_accuracy: 0.1000 - val_loss: 2.3612\n",
      "Epoch 33/50\n",
      "\u001b[1m5/5\u001b[0m \u001b[32m━━━━━━━━━━━━━━━━━━━━\u001b[0m\u001b[37m\u001b[0m \u001b[1m0s\u001b[0m 26ms/step - accuracy: 0.1623 - loss: 2.1000 - val_accuracy: 0.1000 - val_loss: 2.3665\n",
      "Epoch 34/50\n",
      "\u001b[1m5/5\u001b[0m \u001b[32m━━━━━━━━━━━━━━━━━━━━\u001b[0m\u001b[37m\u001b[0m \u001b[1m0s\u001b[0m 35ms/step - accuracy: 0.1684 - loss: 2.0409 - val_accuracy: 0.1000 - val_loss: 2.3722\n",
      "Epoch 35/50\n",
      "\u001b[1m5/5\u001b[0m \u001b[32m━━━━━━━━━━━━━━━━━━━━\u001b[0m\u001b[37m\u001b[0m \u001b[1m0s\u001b[0m 25ms/step - accuracy: 0.1502 - loss: 2.0265 - val_accuracy: 0.1000 - val_loss: 2.3773\n",
      "Epoch 36/50\n",
      "\u001b[1m5/5\u001b[0m \u001b[32m━━━━━━━━━━━━━━━━━━━━\u001b[0m\u001b[37m\u001b[0m \u001b[1m0s\u001b[0m 29ms/step - accuracy: 0.2474 - loss: 2.0419 - val_accuracy: 0.1000 - val_loss: 2.3810\n",
      "Epoch 37/50\n",
      "\u001b[1m5/5\u001b[0m \u001b[32m━━━━━━━━━━━━━━━━━━━━\u001b[0m\u001b[37m\u001b[0m \u001b[1m0s\u001b[0m 24ms/step - accuracy: 0.2127 - loss: 2.0520 - val_accuracy: 0.1000 - val_loss: 2.3804\n",
      "Epoch 38/50\n",
      "\u001b[1m5/5\u001b[0m \u001b[32m━━━━━━━━━━━━━━━━━━━━\u001b[0m\u001b[37m\u001b[0m \u001b[1m0s\u001b[0m 29ms/step - accuracy: 0.1571 - loss: 2.0642 - val_accuracy: 0.1000 - val_loss: 2.3790\n",
      "Epoch 39/50\n",
      "\u001b[1m5/5\u001b[0m \u001b[32m━━━━━━━━━━━━━━━━━━━━\u001b[0m\u001b[37m\u001b[0m \u001b[1m0s\u001b[0m 25ms/step - accuracy: 0.2057 - loss: 2.0590 - val_accuracy: 0.1000 - val_loss: 2.3815\n",
      "Epoch 40/50\n",
      "\u001b[1m5/5\u001b[0m \u001b[32m━━━━━━━━━━━━━━━━━━━━\u001b[0m\u001b[37m\u001b[0m \u001b[1m0s\u001b[0m 25ms/step - accuracy: 0.2083 - loss: 2.0203 - val_accuracy: 0.1000 - val_loss: 2.3869\n",
      "Epoch 41/50\n",
      "\u001b[1m5/5\u001b[0m \u001b[32m━━━━━━━━━━━━━━━━━━━━\u001b[0m\u001b[37m\u001b[0m \u001b[1m0s\u001b[0m 25ms/step - accuracy: 0.2028 - loss: 2.0773 - val_accuracy: 0.1000 - val_loss: 2.3910\n",
      "Epoch 42/50\n",
      "\u001b[1m5/5\u001b[0m \u001b[32m━━━━━━━━━━━━━━━━━━━━\u001b[0m\u001b[37m\u001b[0m \u001b[1m0s\u001b[0m 32ms/step - accuracy: 0.2523 - loss: 2.0246 - val_accuracy: 0.1000 - val_loss: 2.3974\n",
      "Epoch 43/50\n",
      "\u001b[1m5/5\u001b[0m \u001b[32m━━━━━━━━━━━━━━━━━━━━\u001b[0m\u001b[37m\u001b[0m \u001b[1m0s\u001b[0m 23ms/step - accuracy: 0.1793 - loss: 2.0529 - val_accuracy: 0.1000 - val_loss: 2.3975\n",
      "Epoch 44/50\n",
      "\u001b[1m5/5\u001b[0m \u001b[32m━━━━━━━━━━━━━━━━━━━━\u001b[0m\u001b[37m\u001b[0m \u001b[1m0s\u001b[0m 28ms/step - accuracy: 0.1524 - loss: 2.0525 - val_accuracy: 0.1000 - val_loss: 2.4004\n",
      "Epoch 45/50\n",
      "\u001b[1m5/5\u001b[0m \u001b[32m━━━━━━━━━━━━━━━━━━━━\u001b[0m\u001b[37m\u001b[0m \u001b[1m0s\u001b[0m 28ms/step - accuracy: 0.2122 - loss: 2.0822 - val_accuracy: 0.1000 - val_loss: 2.4024\n",
      "Epoch 46/50\n",
      "\u001b[1m5/5\u001b[0m \u001b[32m━━━━━━━━━━━━━━━━━━━━\u001b[0m\u001b[37m\u001b[0m \u001b[1m0s\u001b[0m 26ms/step - accuracy: 0.2616 - loss: 1.9909 - val_accuracy: 0.1000 - val_loss: 2.4080\n",
      "Epoch 47/50\n",
      "\u001b[1m5/5\u001b[0m \u001b[32m━━━━━━━━━━━━━━━━━━━━\u001b[0m\u001b[37m\u001b[0m \u001b[1m0s\u001b[0m 33ms/step - accuracy: 0.2564 - loss: 2.0078 - val_accuracy: 0.1500 - val_loss: 2.4131\n",
      "Epoch 48/50\n",
      "\u001b[1m5/5\u001b[0m \u001b[32m━━━━━━━━━━━━━━━━━━━━\u001b[0m\u001b[37m\u001b[0m \u001b[1m0s\u001b[0m 29ms/step - accuracy: 0.2141 - loss: 2.0352 - val_accuracy: 0.1500 - val_loss: 2.4136\n",
      "Epoch 49/50\n",
      "\u001b[1m5/5\u001b[0m \u001b[32m━━━━━━━━━━━━━━━━━━━━\u001b[0m\u001b[37m\u001b[0m \u001b[1m0s\u001b[0m 27ms/step - accuracy: 0.1889 - loss: 2.0666 - val_accuracy: 0.1500 - val_loss: 2.4146\n",
      "Epoch 50/50\n",
      "\u001b[1m5/5\u001b[0m \u001b[32m━━━━━━━━━━━━━━━━━━━━\u001b[0m\u001b[37m\u001b[0m \u001b[1m0s\u001b[0m 22ms/step - accuracy: 0.2219 - loss: 2.0286 - val_accuracy: 0.1500 - val_loss: 2.4187\n"
     ]
    },
    {
     "data": {
      "text/plain": [
       "<keras.src.callbacks.history.History at 0x7117465aa1a0>"
      ]
     },
     "execution_count": 25,
     "metadata": {},
     "output_type": "execute_result"
    }
   ],
   "source": [
    "model.fit(X_train_scaled, y_train, epochs=50, batch_size=16, validation_data=(X_test_scaled, y_test))"
   ]
  },
  {
   "cell_type": "markdown",
   "id": "7d4f80b5-dc0d-4f70-bb3e-ba6ac734e614",
   "metadata": {},
   "source": [
    "<h3>Step7: Evaluating the model</h3>"
   ]
  },
  {
   "cell_type": "code",
   "execution_count": 26,
   "id": "b7029d75-809a-4b42-92c7-747f8d2224d5",
   "metadata": {},
   "outputs": [
    {
     "name": "stdout",
     "output_type": "stream",
     "text": [
      "WARNING:tensorflow:5 out of the last 5 calls to <function TensorFlowTrainer.make_predict_function.<locals>.one_step_on_data_distributed at 0x71173d559ea0> triggered tf.function retracing. Tracing is expensive and the excessive number of tracings could be due to (1) creating @tf.function repeatedly in a loop, (2) passing tensors with different shapes, (3) passing Python objects instead of tensors. For (1), please define your @tf.function outside of the loop. For (2), @tf.function has reduce_retracing=True option that can avoid unnecessary retracing. For (3), please refer to https://www.tensorflow.org/guide/function#controlling_retracing and https://www.tensorflow.org/api_docs/python/tf/function for  more details.\n",
      "\u001b[1m1/1\u001b[0m \u001b[32m━━━━━━━━━━━━━━━━━━━━\u001b[0m\u001b[37m\u001b[0m \u001b[1m0s\u001b[0m 112ms/step\n"
     ]
    }
   ],
   "source": [
    "y_pred = np.argmax(model.predict(X_test_scaled), axis=1)"
   ]
  },
  {
   "cell_type": "markdown",
   "id": "c3ad11a2-3f36-4117-a2eb-bd7074e6dc12",
   "metadata": {},
   "source": [
    "<h3>Step8: Model Performance</h3>"
   ]
  },
  {
   "cell_type": "code",
   "execution_count": 28,
   "id": "e5853d6c-de03-4178-ad8f-797419620665",
   "metadata": {},
   "outputs": [
    {
     "name": "stdout",
     "output_type": "stream",
     "text": [
      "Accuracy:  0.15\n",
      "Classification Report:\n",
      "               precision    recall  f1-score   support\n",
      "\n",
      "           0       0.12      1.00      0.21         2\n",
      "           1       0.00      0.00      0.00         1\n",
      "           2       0.00      0.00      0.00         2\n",
      "           3       0.00      0.00      0.00         3\n",
      "           4       0.00      0.00      0.00         2\n",
      "           5       0.00      0.00      0.00         2\n",
      "           6       0.50      0.33      0.40         3\n",
      "           7       0.00      0.00      0.00         1\n",
      "           8       0.00      0.00      0.00         4\n",
      "\n",
      "    accuracy                           0.15        20\n",
      "   macro avg       0.07      0.15      0.07        20\n",
      "weighted avg       0.09      0.15      0.08        20\n",
      "\n"
     ]
    },
    {
     "name": "stderr",
     "output_type": "stream",
     "text": [
      "/home/priya/.local/lib/python3.10/site-packages/sklearn/metrics/_classification.py:1531: UndefinedMetricWarning: Precision is ill-defined and being set to 0.0 in labels with no predicted samples. Use `zero_division` parameter to control this behavior.\n",
      "  _warn_prf(average, modifier, f\"{metric.capitalize()} is\", len(result))\n",
      "/home/priya/.local/lib/python3.10/site-packages/sklearn/metrics/_classification.py:1531: UndefinedMetricWarning: Precision is ill-defined and being set to 0.0 in labels with no predicted samples. Use `zero_division` parameter to control this behavior.\n",
      "  _warn_prf(average, modifier, f\"{metric.capitalize()} is\", len(result))\n",
      "/home/priya/.local/lib/python3.10/site-packages/sklearn/metrics/_classification.py:1531: UndefinedMetricWarning: Precision is ill-defined and being set to 0.0 in labels with no predicted samples. Use `zero_division` parameter to control this behavior.\n",
      "  _warn_prf(average, modifier, f\"{metric.capitalize()} is\", len(result))\n"
     ]
    }
   ],
   "source": [
    "# Model performance\n",
    "print(\"Accuracy: \", accuracy_score(y_test, y_pred))\n",
    "print(\"Classification Report:\\n\", classification_report(y_test, y_pred))"
   ]
  },
  {
   "cell_type": "markdown",
   "id": "867b6d36-c9f4-44c8-b5ed-6780d841b96f",
   "metadata": {},
   "source": [
    "<h3>Step9: Making predictions with new input</h3>"
   ]
  },
  {
   "cell_type": "code",
   "execution_count": 29,
   "id": "a29b3425-6b2c-4c51-b0ab-6828bcd13b49",
   "metadata": {},
   "outputs": [],
   "source": [
    "\n",
    "def predict_diagnosis(symptoms):\n",
    "    # Encode the new symptoms using the same encoder as the training data\n",
    "    if symptoms not in symptom_encoder.classes_:\n",
    "        return \"New symptoms not recognized in training data.\"\n",
    "    encoded_symptoms = symptom_encoder.transform([symptoms])\n",
    "    scaled_symptoms = scaler.transform(np.array(encoded_symptoms).reshape(-1, 1))\n",
    "    \n",
    "    # Predict the diagnosis\n",
    "    predicted_diagnosis = model.predict(scaled_symptoms)\n",
    "    diagnosis_label = diagnosis_encoder.inverse_transform([np.argmax(predicted_diagnosis)])\n",
    "    return diagnosis_label[0]"
   ]
  },
  {
   "cell_type": "markdown",
   "id": "0a74384d-dc4a-4617-bcfe-6e74160a94b1",
   "metadata": {},
   "source": [
    "<h3>Step10: Suggest treatment</h3>"
   ]
  },
  {
   "cell_type": "code",
   "execution_count": 30,
   "id": "5687bf44-5417-4952-a437-9cb2e703131a",
   "metadata": {},
   "outputs": [
    {
     "name": "stdout",
     "output_type": "stream",
     "text": [
      "Predicted Diagnosis: New symptoms not recognized in training data.\n",
      "Recommended Treatment: No treatment available for unrecognized symptoms.\n"
     ]
    }
   ],
   "source": [
    "def suggest_treatment(diagnosis):\n",
    "    treatment = df[df['diagnosis'] == diagnosis]['treatment'].values[0]\n",
    "    return treatment\n",
    "\n",
    "# Example: Making a prediction with new symptoms\n",
    "new_symptoms = \"fever, cough, headache\"  # Example symptoms\n",
    "predicted_diagnosis = predict_diagnosis(new_symptoms)\n",
    "print(f\"Predicted Diagnosis: {predicted_diagnosis}\")\n",
    "\n",
    "if predicted_diagnosis != \"New symptoms not recognized in training data.\":\n",
    "    recommended_treatment = suggest_treatment(predicted_diagnosis)\n",
    "    print(f\"Recommended Treatment: {recommended_treatment}\")\n",
    "else:\n",
    "    print(f\"Recommended Treatment: No treatment available for unrecognized symptoms.\")\n"
   ]
  },
  {
   "cell_type": "code",
   "execution_count": null,
   "id": "4ffcf468-0982-4092-854e-e57a05600929",
   "metadata": {},
   "outputs": [],
   "source": []
  }
 ],
 "metadata": {
  "kernelspec": {
   "display_name": "Python 3 (ipykernel)",
   "language": "python",
   "name": "python3"
  },
  "language_info": {
   "codemirror_mode": {
    "name": "ipython",
    "version": 3
   },
   "file_extension": ".py",
   "mimetype": "text/x-python",
   "name": "python",
   "nbconvert_exporter": "python",
   "pygments_lexer": "ipython3",
   "version": "3.10.12"
  }
 },
 "nbformat": 4,
 "nbformat_minor": 5
}
